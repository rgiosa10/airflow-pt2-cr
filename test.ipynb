{
 "cells": [
  {
   "cell_type": "code",
   "execution_count": 8,
   "metadata": {},
   "outputs": [
    {
     "name": "stdout",
     "output_type": "stream",
     "text": [
      "['confetti', 'confetti', 'lemon', 'lemon', 'pistachio', 'vanilla', 'rose', 'lemon', 'vanilla', 'lemon', 'pumpkin', 'confetti', 'lemon', 'lemon', 'vanilla', 'confetti', 'rose', 'strawberry', 'pumpkin', 'vanilla', 'lemon', 'chocolate', 'lemon', 'rose', 'strawberry', 'pumpkin', 'vanilla', 'strawberry', 'pistachio', 'chocolate', 'strawberry', 'confetti', 'chocolate', 'pistachio', 'confetti', 'rose', 'chocolate', 'vanilla', 'strawberry', 'caramel', 'strawberry', 'pumpkin', 'pistachio', 'confetti', 'confetti', 'chocolate', 'pistachio', 'caramel', 'caramel', 'lemon', 'strawberry', 'lemon', 'pumpkin', 'confetti', 'pistachio', 'strawberry', 'lemon', 'lemon', 'lemon', 'lemon', 'caramel', 'confetti', 'lemon', 'lemon', 'confetti', 'caramel', 'confetti', 'pumpkin', 'caramel', 'rose', 'confetti', 'vanilla', 'chocolate', 'chocolate', 'rose', 'lemon', 'lemon', 'confetti', 'pumpkin', 'confetti', 'rose', 'confetti', 'chocolate', 'rose', 'pumpkin', 'caramel', 'confetti', 'caramel', 'lemon', 'lemon', 'lemon']\n"
     ]
    }
   ],
   "source": [
    "import pandas as pd\n",
    "\n",
    "flavors_choices = [\"lemon\", \"vanilla\", \"chocolate\", \"pistachio\", \"strawberry\", \"confetti\", \"caramel\", \"pumpkin\", \"rose\"]\n",
    "\n",
    "df = pd.read_csv('/Users/Ruben/Desktop/airflow-pt2-cr/dsa-airflow/data/votes.csv', header=0)\n",
    "votes = df.votes.values.tolist()\n",
    "\n",
    "valid_votes = []\n",
    "for vote in votes:\n",
    "     if vote in flavors_choices:\n",
    "        valid_votes.append(vote)\n",
    "    \n",
    "print(valid_votes)"
   ]
  }
 ],
 "metadata": {
  "kernelspec": {
   "display_name": "Python 3.7.9 ('venv': venv)",
   "language": "python",
   "name": "python3"
  },
  "language_info": {
   "codemirror_mode": {
    "name": "ipython",
    "version": 3
   },
   "file_extension": ".py",
   "mimetype": "text/x-python",
   "name": "python",
   "nbconvert_exporter": "python",
   "pygments_lexer": "ipython3",
   "version": "3.7.9"
  },
  "orig_nbformat": 4,
  "vscode": {
   "interpreter": {
    "hash": "9c5a6cc08adae5d8a105c04dc88cdc59f8443d2f5c6f45e5667707265ca9719c"
   }
  }
 },
 "nbformat": 4,
 "nbformat_minor": 2
}
